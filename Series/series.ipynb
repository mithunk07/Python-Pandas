{
 "cells": [
  {
   "cell_type": "markdown",
   "metadata": {},
   "source": [
    "## Create A `Series` Object from A Python List"
   ]
  },
  {
   "cell_type": "code",
   "execution_count": 1,
   "metadata": {},
   "outputs": [],
   "source": [
    "import pandas as pd"
   ]
  },
  {
   "cell_type": "code",
   "execution_count": 3,
   "metadata": {},
   "outputs": [
    {
     "data": {
      "text/plain": [
       "0        Chocolate\n",
       "1          Vanilla\n",
       "2       Strawberry\n",
       "3    Butter Scotch\n",
       "4    Black current\n",
       "dtype: object"
      ]
     },
     "execution_count": 3,
     "metadata": {},
     "output_type": "execute_result"
    }
   ],
   "source": [
    "ice_cream = [\"Chocolate\", \"Vanilla\", \"Strawberry\", \"Butter Scotch\", \"Black current\"]\n",
    "\n",
    "pd.Series(ice_cream)"
   ]
  },
  {
   "cell_type": "code",
   "execution_count": 4,
   "metadata": {},
   "outputs": [
    {
     "data": {
      "text/plain": [
       "0     4\n",
       "1     8\n",
       "2    15\n",
       "3    16\n",
       "4    23\n",
       "5    42\n",
       "dtype: int64"
      ]
     },
     "execution_count": 4,
     "metadata": {},
     "output_type": "execute_result"
    }
   ],
   "source": [
    "lottery = [4, 8, 15, 16, 23, 42]\n",
    "\n",
    "pd.Series(lottery)"
   ]
  },
  {
   "cell_type": "code",
   "execution_count": 5,
   "metadata": {},
   "outputs": [
    {
     "data": {
      "text/plain": [
       "0     True\n",
       "1    False\n",
       "2    False\n",
       "3    False\n",
       "4     True\n",
       "dtype: bool"
      ]
     },
     "execution_count": 5,
     "metadata": {},
     "output_type": "execute_result"
    }
   ],
   "source": [
    "registrations = [True, False, False, False, True]\n",
    "\n",
    "pd.Series(registrations)"
   ]
  },
  {
   "cell_type": "markdown",
   "metadata": {},
   "source": [
    "***We can also give index explicitly.***"
   ]
  },
  {
   "cell_type": "code",
   "execution_count": 16,
   "metadata": {},
   "outputs": [
    {
     "data": {
      "text/plain": [
       "Monday            Apple\n",
       "Tuesday          Orange\n",
       "Wednesday    Watermelon\n",
       "Thursday          Grape\n",
       "Friday        Blueberry\n",
       "dtype: object"
      ]
     },
     "execution_count": 16,
     "metadata": {},
     "output_type": "execute_result"
    }
   ],
   "source": [
    "fruits = [\"Apple\", \"Orange\", \"Watermelon\", \"Grape\", \"Blueberry\"]\n",
    "weekdays = [\"Monday\", \"Tuesday\", \"Wednesday\", \"Thursday\", \"Friday\"]\n",
    "\n",
    "\n",
    "pd.Series(data = fruits, index = weekdays)\n"
   ]
  },
  {
   "cell_type": "markdown",
   "metadata": {},
   "source": [
    "## Create A `Series` Object from a Dictionary"
   ]
  },
  {
   "cell_type": "code",
   "execution_count": 6,
   "metadata": {},
   "outputs": [
    {
     "data": {
      "text/plain": [
       "Tiger             An animal\n",
       "Banana    A delicious fruit\n",
       "Red                 A color\n",
       "dtype: object"
      ]
     },
     "execution_count": 6,
     "metadata": {},
     "output_type": "execute_result"
    }
   ],
   "source": [
    "Examples = {\"Tiger\" : \"An animal\",\n",
    "           \"Banana\" : \"A delicious fruit\",\n",
    "           \"Red\" : \"A color\"}\n",
    "\n",
    "pd.Series(Examples)"
   ]
  },
  {
   "cell_type": "markdown",
   "metadata": {},
   "source": [
    "## Attributes"
   ]
  },
  {
   "cell_type": "code",
   "execution_count": 8,
   "metadata": {},
   "outputs": [
    {
     "data": {
      "text/plain": [
       "0      Tiger\n",
       "1       Lion\n",
       "2        Fox\n",
       "3       Wolf\n",
       "4    Cheetah\n",
       "dtype: object"
      ]
     },
     "execution_count": 8,
     "metadata": {},
     "output_type": "execute_result"
    }
   ],
   "source": [
    "animals = [\"Tiger\", \"Lion\", \"Fox\", \"Wolf\", \"Cheetah\"]\n",
    "s = pd.Series(animals)\n",
    "s"
   ]
  },
  {
   "cell_type": "code",
   "execution_count": 9,
   "metadata": {},
   "outputs": [
    {
     "data": {
      "text/plain": [
       "array(['Tiger', 'Lion', 'Fox', 'Wolf', 'Cheetah'], dtype=object)"
      ]
     },
     "execution_count": 9,
     "metadata": {},
     "output_type": "execute_result"
    }
   ],
   "source": [
    "s.values"
   ]
  },
  {
   "cell_type": "code",
   "execution_count": 10,
   "metadata": {},
   "outputs": [
    {
     "data": {
      "text/plain": [
       "RangeIndex(start=0, stop=5, step=1)"
      ]
     },
     "execution_count": 10,
     "metadata": {},
     "output_type": "execute_result"
    }
   ],
   "source": [
    "s.index"
   ]
  },
  {
   "cell_type": "code",
   "execution_count": 11,
   "metadata": {},
   "outputs": [
    {
     "data": {
      "text/plain": [
       "dtype('O')"
      ]
     },
     "execution_count": 11,
     "metadata": {},
     "output_type": "execute_result"
    }
   ],
   "source": [
    "s.dtype"
   ]
  },
  {
   "cell_type": "markdown",
   "metadata": {},
   "source": [
    "## Intro to Methods"
   ]
  },
  {
   "cell_type": "code",
   "execution_count": 12,
   "metadata": {},
   "outputs": [
    {
     "data": {
      "text/plain": [
       "0    2.99\n",
       "1    4.45\n",
       "2    1.36\n",
       "dtype: float64"
      ]
     },
     "execution_count": 12,
     "metadata": {},
     "output_type": "execute_result"
    }
   ],
   "source": [
    "prices = [2.99, 4.45, 1.36]\n",
    "s = pd.Series(prices)\n",
    "s"
   ]
  },
  {
   "cell_type": "code",
   "execution_count": 13,
   "metadata": {},
   "outputs": [
    {
     "data": {
      "text/plain": [
       "8.8"
      ]
     },
     "execution_count": 13,
     "metadata": {},
     "output_type": "execute_result"
    }
   ],
   "source": [
    "s.sum()"
   ]
  },
  {
   "cell_type": "code",
   "execution_count": 14,
   "metadata": {},
   "outputs": [
    {
     "data": {
      "text/plain": [
       "18.095480000000006"
      ]
     },
     "execution_count": 14,
     "metadata": {},
     "output_type": "execute_result"
    }
   ],
   "source": [
    "s.product()"
   ]
  },
  {
   "cell_type": "code",
   "execution_count": 15,
   "metadata": {},
   "outputs": [
    {
     "data": {
      "text/plain": [
       "2.9333333333333336"
      ]
     },
     "execution_count": 15,
     "metadata": {},
     "output_type": "execute_result"
    }
   ],
   "source": [
    "s.mean()"
   ]
  },
  {
   "cell_type": "markdown",
   "metadata": {},
   "source": [
    "## Import `Series` with the `read_csv` Method"
   ]
  },
  {
   "cell_type": "code",
   "execution_count": 17,
   "metadata": {},
   "outputs": [
    {
     "data": {
      "text/html": [
       "<div>\n",
       "<style scoped>\n",
       "    .dataframe tbody tr th:only-of-type {\n",
       "        vertical-align: middle;\n",
       "    }\n",
       "\n",
       "    .dataframe tbody tr th {\n",
       "        vertical-align: top;\n",
       "    }\n",
       "\n",
       "    .dataframe thead th {\n",
       "        text-align: right;\n",
       "    }\n",
       "</style>\n",
       "<table border=\"1\" class=\"dataframe\">\n",
       "  <thead>\n",
       "    <tr style=\"text-align: right;\">\n",
       "      <th></th>\n",
       "      <th>Pokemon</th>\n",
       "      <th>Type</th>\n",
       "    </tr>\n",
       "  </thead>\n",
       "  <tbody>\n",
       "    <tr>\n",
       "      <th>0</th>\n",
       "      <td>Bulbasaur</td>\n",
       "      <td>Grass</td>\n",
       "    </tr>\n",
       "    <tr>\n",
       "      <th>1</th>\n",
       "      <td>Ivysaur</td>\n",
       "      <td>Grass</td>\n",
       "    </tr>\n",
       "    <tr>\n",
       "      <th>2</th>\n",
       "      <td>Venusaur</td>\n",
       "      <td>Grass</td>\n",
       "    </tr>\n",
       "    <tr>\n",
       "      <th>3</th>\n",
       "      <td>Charmander</td>\n",
       "      <td>Fire</td>\n",
       "    </tr>\n",
       "    <tr>\n",
       "      <th>4</th>\n",
       "      <td>Charmeleon</td>\n",
       "      <td>Fire</td>\n",
       "    </tr>\n",
       "    <tr>\n",
       "      <th>5</th>\n",
       "      <td>Charizard</td>\n",
       "      <td>Fire</td>\n",
       "    </tr>\n",
       "    <tr>\n",
       "      <th>6</th>\n",
       "      <td>Squirtle</td>\n",
       "      <td>Water</td>\n",
       "    </tr>\n",
       "    <tr>\n",
       "      <th>7</th>\n",
       "      <td>Wartortle</td>\n",
       "      <td>Water</td>\n",
       "    </tr>\n",
       "    <tr>\n",
       "      <th>8</th>\n",
       "      <td>Blastoise</td>\n",
       "      <td>Water</td>\n",
       "    </tr>\n",
       "    <tr>\n",
       "      <th>9</th>\n",
       "      <td>Caterpie</td>\n",
       "      <td>Bug</td>\n",
       "    </tr>\n",
       "    <tr>\n",
       "      <th>10</th>\n",
       "      <td>Metapod</td>\n",
       "      <td>Bug</td>\n",
       "    </tr>\n",
       "    <tr>\n",
       "      <th>11</th>\n",
       "      <td>Butterfree</td>\n",
       "      <td>Bug</td>\n",
       "    </tr>\n",
       "    <tr>\n",
       "      <th>12</th>\n",
       "      <td>Weedle</td>\n",
       "      <td>Bug</td>\n",
       "    </tr>\n",
       "    <tr>\n",
       "      <th>13</th>\n",
       "      <td>Kakuna</td>\n",
       "      <td>Bug</td>\n",
       "    </tr>\n",
       "    <tr>\n",
       "      <th>14</th>\n",
       "      <td>Beedrill</td>\n",
       "      <td>Bug</td>\n",
       "    </tr>\n",
       "    <tr>\n",
       "      <th>15</th>\n",
       "      <td>Pidgey</td>\n",
       "      <td>Normal</td>\n",
       "    </tr>\n",
       "    <tr>\n",
       "      <th>16</th>\n",
       "      <td>Pidgeotto</td>\n",
       "      <td>Normal</td>\n",
       "    </tr>\n",
       "    <tr>\n",
       "      <th>17</th>\n",
       "      <td>Pidgeot</td>\n",
       "      <td>Normal</td>\n",
       "    </tr>\n",
       "    <tr>\n",
       "      <th>18</th>\n",
       "      <td>Rattata</td>\n",
       "      <td>Normal</td>\n",
       "    </tr>\n",
       "    <tr>\n",
       "      <th>19</th>\n",
       "      <td>Raticate</td>\n",
       "      <td>Normal</td>\n",
       "    </tr>\n",
       "    <tr>\n",
       "      <th>20</th>\n",
       "      <td>Spearow</td>\n",
       "      <td>Normal</td>\n",
       "    </tr>\n",
       "    <tr>\n",
       "      <th>21</th>\n",
       "      <td>Fearow</td>\n",
       "      <td>Normal</td>\n",
       "    </tr>\n",
       "    <tr>\n",
       "      <th>22</th>\n",
       "      <td>Ekans</td>\n",
       "      <td>Poison</td>\n",
       "    </tr>\n",
       "    <tr>\n",
       "      <th>23</th>\n",
       "      <td>Arbok</td>\n",
       "      <td>Poison</td>\n",
       "    </tr>\n",
       "    <tr>\n",
       "      <th>24</th>\n",
       "      <td>Pikachu</td>\n",
       "      <td>Electric</td>\n",
       "    </tr>\n",
       "    <tr>\n",
       "      <th>25</th>\n",
       "      <td>Raichu</td>\n",
       "      <td>Electric</td>\n",
       "    </tr>\n",
       "    <tr>\n",
       "      <th>26</th>\n",
       "      <td>Sandshrew</td>\n",
       "      <td>Ground</td>\n",
       "    </tr>\n",
       "    <tr>\n",
       "      <th>27</th>\n",
       "      <td>Sandslash</td>\n",
       "      <td>Ground</td>\n",
       "    </tr>\n",
       "    <tr>\n",
       "      <th>28</th>\n",
       "      <td>Nidoran</td>\n",
       "      <td>Poison</td>\n",
       "    </tr>\n",
       "    <tr>\n",
       "      <th>29</th>\n",
       "      <td>Nidorina</td>\n",
       "      <td>Poison</td>\n",
       "    </tr>\n",
       "    <tr>\n",
       "      <th>...</th>\n",
       "      <td>...</td>\n",
       "      <td>...</td>\n",
       "    </tr>\n",
       "    <tr>\n",
       "      <th>691</th>\n",
       "      <td>Clauncher</td>\n",
       "      <td>Water</td>\n",
       "    </tr>\n",
       "    <tr>\n",
       "      <th>692</th>\n",
       "      <td>Clawitzer</td>\n",
       "      <td>Water</td>\n",
       "    </tr>\n",
       "    <tr>\n",
       "      <th>693</th>\n",
       "      <td>Helioptile</td>\n",
       "      <td>Electric</td>\n",
       "    </tr>\n",
       "    <tr>\n",
       "      <th>694</th>\n",
       "      <td>Heliolisk</td>\n",
       "      <td>Electric</td>\n",
       "    </tr>\n",
       "    <tr>\n",
       "      <th>695</th>\n",
       "      <td>Tyrunt</td>\n",
       "      <td>Rock</td>\n",
       "    </tr>\n",
       "    <tr>\n",
       "      <th>696</th>\n",
       "      <td>Tyrantrum</td>\n",
       "      <td>Rock</td>\n",
       "    </tr>\n",
       "    <tr>\n",
       "      <th>697</th>\n",
       "      <td>Amaura</td>\n",
       "      <td>Rock</td>\n",
       "    </tr>\n",
       "    <tr>\n",
       "      <th>698</th>\n",
       "      <td>Aurorus</td>\n",
       "      <td>Rock</td>\n",
       "    </tr>\n",
       "    <tr>\n",
       "      <th>699</th>\n",
       "      <td>Sylveon</td>\n",
       "      <td>Fairy</td>\n",
       "    </tr>\n",
       "    <tr>\n",
       "      <th>700</th>\n",
       "      <td>Hawlucha</td>\n",
       "      <td>Fighting</td>\n",
       "    </tr>\n",
       "    <tr>\n",
       "      <th>701</th>\n",
       "      <td>Dedenne</td>\n",
       "      <td>Electric</td>\n",
       "    </tr>\n",
       "    <tr>\n",
       "      <th>702</th>\n",
       "      <td>Carbink</td>\n",
       "      <td>Rock</td>\n",
       "    </tr>\n",
       "    <tr>\n",
       "      <th>703</th>\n",
       "      <td>Goomy</td>\n",
       "      <td>Dragon</td>\n",
       "    </tr>\n",
       "    <tr>\n",
       "      <th>704</th>\n",
       "      <td>Sliggoo</td>\n",
       "      <td>Dragon</td>\n",
       "    </tr>\n",
       "    <tr>\n",
       "      <th>705</th>\n",
       "      <td>Goodra</td>\n",
       "      <td>Dragon</td>\n",
       "    </tr>\n",
       "    <tr>\n",
       "      <th>706</th>\n",
       "      <td>Klefki</td>\n",
       "      <td>Steel</td>\n",
       "    </tr>\n",
       "    <tr>\n",
       "      <th>707</th>\n",
       "      <td>Phantump</td>\n",
       "      <td>Ghost</td>\n",
       "    </tr>\n",
       "    <tr>\n",
       "      <th>708</th>\n",
       "      <td>Trevenant</td>\n",
       "      <td>Ghost</td>\n",
       "    </tr>\n",
       "    <tr>\n",
       "      <th>709</th>\n",
       "      <td>Pumpkaboo</td>\n",
       "      <td>Ghost</td>\n",
       "    </tr>\n",
       "    <tr>\n",
       "      <th>710</th>\n",
       "      <td>Gourgeist</td>\n",
       "      <td>Ghost</td>\n",
       "    </tr>\n",
       "    <tr>\n",
       "      <th>711</th>\n",
       "      <td>Bergmite</td>\n",
       "      <td>Ice</td>\n",
       "    </tr>\n",
       "    <tr>\n",
       "      <th>712</th>\n",
       "      <td>Avalugg</td>\n",
       "      <td>Ice</td>\n",
       "    </tr>\n",
       "    <tr>\n",
       "      <th>713</th>\n",
       "      <td>Noibat</td>\n",
       "      <td>Flying</td>\n",
       "    </tr>\n",
       "    <tr>\n",
       "      <th>714</th>\n",
       "      <td>Noivern</td>\n",
       "      <td>Flying</td>\n",
       "    </tr>\n",
       "    <tr>\n",
       "      <th>715</th>\n",
       "      <td>Xerneas</td>\n",
       "      <td>Fairy</td>\n",
       "    </tr>\n",
       "    <tr>\n",
       "      <th>716</th>\n",
       "      <td>Yveltal</td>\n",
       "      <td>Dark</td>\n",
       "    </tr>\n",
       "    <tr>\n",
       "      <th>717</th>\n",
       "      <td>Zygarde</td>\n",
       "      <td>Dragon</td>\n",
       "    </tr>\n",
       "    <tr>\n",
       "      <th>718</th>\n",
       "      <td>Diancie</td>\n",
       "      <td>Rock</td>\n",
       "    </tr>\n",
       "    <tr>\n",
       "      <th>719</th>\n",
       "      <td>Hoopa</td>\n",
       "      <td>Psychic</td>\n",
       "    </tr>\n",
       "    <tr>\n",
       "      <th>720</th>\n",
       "      <td>Volcanion</td>\n",
       "      <td>Fire</td>\n",
       "    </tr>\n",
       "  </tbody>\n",
       "</table>\n",
       "<p>721 rows × 2 columns</p>\n",
       "</div>"
      ],
      "text/plain": [
       "        Pokemon      Type\n",
       "0     Bulbasaur     Grass\n",
       "1       Ivysaur     Grass\n",
       "2      Venusaur     Grass\n",
       "3    Charmander      Fire\n",
       "4    Charmeleon      Fire\n",
       "5     Charizard      Fire\n",
       "6      Squirtle     Water\n",
       "7     Wartortle     Water\n",
       "8     Blastoise     Water\n",
       "9      Caterpie       Bug\n",
       "10      Metapod       Bug\n",
       "11   Butterfree       Bug\n",
       "12       Weedle       Bug\n",
       "13       Kakuna       Bug\n",
       "14     Beedrill       Bug\n",
       "15       Pidgey    Normal\n",
       "16    Pidgeotto    Normal\n",
       "17      Pidgeot    Normal\n",
       "18      Rattata    Normal\n",
       "19     Raticate    Normal\n",
       "20      Spearow    Normal\n",
       "21       Fearow    Normal\n",
       "22        Ekans    Poison\n",
       "23        Arbok    Poison\n",
       "24      Pikachu  Electric\n",
       "25       Raichu  Electric\n",
       "26    Sandshrew    Ground\n",
       "27    Sandslash    Ground\n",
       "28      Nidoran    Poison\n",
       "29     Nidorina    Poison\n",
       "..          ...       ...\n",
       "691   Clauncher     Water\n",
       "692   Clawitzer     Water\n",
       "693  Helioptile  Electric\n",
       "694   Heliolisk  Electric\n",
       "695      Tyrunt      Rock\n",
       "696   Tyrantrum      Rock\n",
       "697      Amaura      Rock\n",
       "698     Aurorus      Rock\n",
       "699     Sylveon     Fairy\n",
       "700    Hawlucha  Fighting\n",
       "701     Dedenne  Electric\n",
       "702     Carbink      Rock\n",
       "703       Goomy    Dragon\n",
       "704     Sliggoo    Dragon\n",
       "705      Goodra    Dragon\n",
       "706      Klefki     Steel\n",
       "707    Phantump     Ghost\n",
       "708   Trevenant     Ghost\n",
       "709   Pumpkaboo     Ghost\n",
       "710   Gourgeist     Ghost\n",
       "711    Bergmite       Ice\n",
       "712     Avalugg       Ice\n",
       "713      Noibat    Flying\n",
       "714     Noivern    Flying\n",
       "715     Xerneas     Fairy\n",
       "716     Yveltal      Dark\n",
       "717     Zygarde    Dragon\n",
       "718     Diancie      Rock\n",
       "719       Hoopa   Psychic\n",
       "720   Volcanion      Fire\n",
       "\n",
       "[721 rows x 2 columns]"
      ]
     },
     "execution_count": 17,
     "metadata": {},
     "output_type": "execute_result"
    }
   ],
   "source": [
    "pokemon = pd.read_csv(\"pokemon.csv\")\n",
    "pokemon"
   ]
  },
  {
   "cell_type": "code",
   "execution_count": 19,
   "metadata": {},
   "outputs": [
    {
     "data": {
      "text/plain": [
       "0       Bulbasaur\n",
       "1         Ivysaur\n",
       "2        Venusaur\n",
       "3      Charmander\n",
       "4      Charmeleon\n",
       "5       Charizard\n",
       "6        Squirtle\n",
       "7       Wartortle\n",
       "8       Blastoise\n",
       "9        Caterpie\n",
       "10        Metapod\n",
       "11     Butterfree\n",
       "12         Weedle\n",
       "13         Kakuna\n",
       "14       Beedrill\n",
       "15         Pidgey\n",
       "16      Pidgeotto\n",
       "17        Pidgeot\n",
       "18        Rattata\n",
       "19       Raticate\n",
       "20        Spearow\n",
       "21         Fearow\n",
       "22          Ekans\n",
       "23          Arbok\n",
       "24        Pikachu\n",
       "25         Raichu\n",
       "26      Sandshrew\n",
       "27      Sandslash\n",
       "28        Nidoran\n",
       "29       Nidorina\n",
       "          ...    \n",
       "691     Clauncher\n",
       "692     Clawitzer\n",
       "693    Helioptile\n",
       "694     Heliolisk\n",
       "695        Tyrunt\n",
       "696     Tyrantrum\n",
       "697        Amaura\n",
       "698       Aurorus\n",
       "699       Sylveon\n",
       "700      Hawlucha\n",
       "701       Dedenne\n",
       "702       Carbink\n",
       "703         Goomy\n",
       "704       Sliggoo\n",
       "705        Goodra\n",
       "706        Klefki\n",
       "707      Phantump\n",
       "708     Trevenant\n",
       "709     Pumpkaboo\n",
       "710     Gourgeist\n",
       "711      Bergmite\n",
       "712       Avalugg\n",
       "713        Noibat\n",
       "714       Noivern\n",
       "715       Xerneas\n",
       "716       Yveltal\n",
       "717       Zygarde\n",
       "718       Diancie\n",
       "719         Hoopa\n",
       "720     Volcanion\n",
       "Name: Pokemon, Length: 721, dtype: object"
      ]
     },
     "execution_count": 19,
     "metadata": {},
     "output_type": "execute_result"
    }
   ],
   "source": [
    "#If we do this we get a Dataframe not a series so to extract only the first column we will make use of usecols and squeeze to convert into a Series\n",
    "pokemon = pd.read_csv(\"pokemon.csv\", usecols = [\"Pokemon\"], squeeze = True)\n",
    "pokemon"
   ]
  },
  {
   "cell_type": "markdown",
   "metadata": {},
   "source": [
    "## The `.head()` and `.tail()` Methods"
   ]
  },
  {
   "cell_type": "code",
   "execution_count": 20,
   "metadata": {},
   "outputs": [
    {
     "data": {
      "text/plain": [
       "0     Bulbasaur\n",
       "1       Ivysaur\n",
       "2      Venusaur\n",
       "3    Charmander\n",
       "4    Charmeleon\n",
       "Name: Pokemon, dtype: object"
      ]
     },
     "execution_count": 20,
     "metadata": {},
     "output_type": "execute_result"
    }
   ],
   "source": [
    "pokemon.head()"
   ]
  },
  {
   "cell_type": "markdown",
   "metadata": {},
   "source": [
    "***By default we get the first five records***"
   ]
  },
  {
   "cell_type": "code",
   "execution_count": 21,
   "metadata": {},
   "outputs": [
    {
     "data": {
      "text/plain": [
       "0     Bulbasaur\n",
       "1       Ivysaur\n",
       "2      Venusaur\n",
       "3    Charmander\n",
       "4    Charmeleon\n",
       "5     Charizard\n",
       "6      Squirtle\n",
       "7     Wartortle\n",
       "8     Blastoise\n",
       "9      Caterpie\n",
       "Name: Pokemon, dtype: object"
      ]
     },
     "execution_count": 21,
     "metadata": {},
     "output_type": "execute_result"
    }
   ],
   "source": [
    "pokemon.head(10)"
   ]
  },
  {
   "cell_type": "code",
   "execution_count": 23,
   "metadata": {},
   "outputs": [
    {
     "data": {
      "text/plain": [
       "716      Yveltal\n",
       "717      Zygarde\n",
       "718      Diancie\n",
       "719        Hoopa\n",
       "720    Volcanion\n",
       "Name: Pokemon, dtype: object"
      ]
     },
     "execution_count": 23,
     "metadata": {},
     "output_type": "execute_result"
    }
   ],
   "source": [
    "pokemon.tail()"
   ]
  },
  {
   "cell_type": "markdown",
   "metadata": {},
   "source": [
    "## The `.sort_values()` Method"
   ]
  },
  {
   "cell_type": "code",
   "execution_count": 24,
   "metadata": {},
   "outputs": [
    {
     "data": {
      "text/plain": [
       "459    Abomasnow\n",
       "62          Abra\n",
       "358        Absol\n",
       "616     Accelgor\n",
       "680    Aegislash\n",
       "Name: Pokemon, dtype: object"
      ]
     },
     "execution_count": 24,
     "metadata": {},
     "output_type": "execute_result"
    }
   ],
   "source": [
    "pokemon.sort_values().head()"
   ]
  },
  {
   "cell_type": "code",
   "execution_count": 26,
   "metadata": {},
   "outputs": [
    {
     "data": {
      "text/plain": [
       "717     Zygarde\n",
       "633    Zweilous\n",
       "40        Zubat\n",
       "569       Zorua\n",
       "570     Zoroark\n",
       "Name: Pokemon, dtype: object"
      ]
     },
     "execution_count": 26,
     "metadata": {},
     "output_type": "execute_result"
    }
   ],
   "source": [
    "pokemon.sort_values(ascending = False).head()"
   ]
  },
  {
   "cell_type": "code",
   "execution_count": 28,
   "metadata": {},
   "outputs": [
    {
     "data": {
      "text/plain": [
       "0     Bulbasaur\n",
       "1       Ivysaur\n",
       "2      Venusaur\n",
       "3    Charmander\n",
       "4    Charmeleon\n",
       "Name: Pokemon, dtype: object"
      ]
     },
     "execution_count": 28,
     "metadata": {},
     "output_type": "execute_result"
    }
   ],
   "source": [
    "pokemon.head()"
   ]
  },
  {
   "cell_type": "markdown",
   "metadata": {},
   "source": [
    "***The sort_values by itself does not modify the existing series , to make the operations like sort_values permanent we make use of\n",
    "inplace parameter***"
   ]
  },
  {
   "cell_type": "code",
   "execution_count": 29,
   "metadata": {},
   "outputs": [
    {
     "data": {
      "text/plain": [
       "459    Abomasnow\n",
       "62          Abra\n",
       "358        Absol\n",
       "616     Accelgor\n",
       "680    Aegislash\n",
       "Name: Pokemon, dtype: object"
      ]
     },
     "execution_count": 29,
     "metadata": {},
     "output_type": "execute_result"
    }
   ],
   "source": [
    "pokemon.sort_values(inplace = True)\n",
    "pokemon.head()"
   ]
  },
  {
   "cell_type": "code",
   "execution_count": 30,
   "metadata": {},
   "outputs": [
    {
     "data": {
      "text/plain": [
       "459     Abomasnow\n",
       "62           Abra\n",
       "358         Absol\n",
       "616      Accelgor\n",
       "680     Aegislash\n",
       "141    Aerodactyl\n",
       "305        Aggron\n",
       "189         Aipom\n",
       "64       Alakazam\n",
       "593     Alomomola\n",
       "333       Altaria\n",
       "697        Amaura\n",
       "423       Ambipom\n",
       "590     Amoonguss\n",
       "180      Ampharos\n",
       "346       Anorith\n",
       "23          Arbok\n",
       "58       Arcanine\n",
       "492        Arceus\n",
       "565        Archen\n",
       "566      Archeops\n",
       "167       Ariados\n",
       "347       Armaldo\n",
       "682    Aromatisse\n",
       "303          Aron\n",
       "143      Articuno\n",
       "530        Audino\n",
       "698       Aurorus\n",
       "712       Avalugg\n",
       "609          Axew\n",
       "          ...    \n",
       "69     Weepinbell\n",
       "109       Weezing\n",
       "546    Whimsicott\n",
       "543    Whirlipede\n",
       "339      Whiscash\n",
       "292       Whismur\n",
       "39     Wigglytuff\n",
       "277       Wingull\n",
       "201     Wobbuffet\n",
       "526        Woobat\n",
       "193        Wooper\n",
       "412      Wormadam\n",
       "264       Wurmple\n",
       "359        Wynaut\n",
       "177          Xatu\n",
       "715       Xerneas\n",
       "561        Yamask\n",
       "192         Yanma\n",
       "468       Yanmega\n",
       "716       Yveltal\n",
       "334      Zangoose\n",
       "144        Zapdos\n",
       "522     Zebstrika\n",
       "643        Zekrom\n",
       "262     Zigzagoon\n",
       "570       Zoroark\n",
       "569         Zorua\n",
       "40          Zubat\n",
       "633      Zweilous\n",
       "717       Zygarde\n",
       "Name: Pokemon, Length: 721, dtype: object"
      ]
     },
     "execution_count": 30,
     "metadata": {},
     "output_type": "execute_result"
    }
   ],
   "source": [
    "#after using implace paramater you can see that the values have been sorted permanently in the series\n",
    "pokemon"
   ]
  },
  {
   "cell_type": "markdown",
   "metadata": {},
   "source": [
    "## The `.sort_index()` Method"
   ]
  },
  {
   "cell_type": "code",
   "execution_count": 35,
   "metadata": {},
   "outputs": [
    {
     "data": {
      "text/plain": [
       "0    Bulbasaur\n",
       "1      Ivysaur\n",
       "2     Venusaur\n",
       "Name: Pokemon, dtype: object"
      ]
     },
     "execution_count": 35,
     "metadata": {},
     "output_type": "execute_result"
    }
   ],
   "source": [
    "pokemon = pd.read_csv(\"pokemon.csv\",usecols=[\"Pokemon\"],squeeze=True)\n",
    "pokemon.head(3)"
   ]
  },
  {
   "cell_type": "code",
   "execution_count": 37,
   "metadata": {},
   "outputs": [
    {
     "data": {
      "text/plain": [
       "720    Volcanion\n",
       "719        Hoopa\n",
       "718      Diancie\n",
       "717      Zygarde\n",
       "716      Yveltal\n",
       "Name: Pokemon, dtype: object"
      ]
     },
     "execution_count": 37,
     "metadata": {},
     "output_type": "execute_result"
    }
   ],
   "source": [
    "pokemon.sort_index(ascending = False).head(5)"
   ]
  },
  {
   "cell_type": "markdown",
   "metadata": {},
   "source": [
    "## Python's `in` Keyword"
   ]
  },
  {
   "cell_type": "code",
   "execution_count": 38,
   "metadata": {},
   "outputs": [
    {
     "data": {
      "text/plain": [
       "0     Bulbasaur\n",
       "1       Ivysaur\n",
       "2      Venusaur\n",
       "3    Charmander\n",
       "4    Charmeleon\n",
       "Name: Pokemon, dtype: object"
      ]
     },
     "execution_count": 38,
     "metadata": {},
     "output_type": "execute_result"
    }
   ],
   "source": [
    "pokemon.head(5)"
   ]
  },
  {
   "cell_type": "code",
   "execution_count": 40,
   "metadata": {},
   "outputs": [
    {
     "data": {
      "text/plain": [
       "True"
      ]
     },
     "execution_count": 40,
     "metadata": {},
     "output_type": "execute_result"
    }
   ],
   "source": [
    "\"Bulbasaur\" in pokemon.values"
   ]
  },
  {
   "cell_type": "code",
   "execution_count": 41,
   "metadata": {},
   "outputs": [
    {
     "data": {
      "text/plain": [
       "False"
      ]
     },
     "execution_count": 41,
     "metadata": {},
     "output_type": "execute_result"
    }
   ],
   "source": [
    "\"Ash\" in pokemon.values"
   ]
  },
  {
   "cell_type": "code",
   "execution_count": 42,
   "metadata": {},
   "outputs": [
    {
     "data": {
      "text/plain": [
       "True"
      ]
     },
     "execution_count": 42,
     "metadata": {},
     "output_type": "execute_result"
    }
   ],
   "source": [
    "712 in pokemon.index"
   ]
  },
  {
   "cell_type": "code",
   "execution_count": 43,
   "metadata": {},
   "outputs": [
    {
     "data": {
      "text/plain": [
       "False"
      ]
     },
     "execution_count": 43,
     "metadata": {},
     "output_type": "execute_result"
    }
   ],
   "source": [
    "999 in pokemon.index"
   ]
  },
  {
   "cell_type": "code",
   "execution_count": 44,
   "metadata": {},
   "outputs": [
    {
     "data": {
      "text/plain": [
       "(721,)"
      ]
     },
     "execution_count": 44,
     "metadata": {},
     "output_type": "execute_result"
    }
   ],
   "source": [
    "pokemon.shape"
   ]
  },
  {
   "cell_type": "markdown",
   "metadata": {},
   "source": [
    "## Extract Values by Index Position"
   ]
  },
  {
   "cell_type": "code",
   "execution_count": 46,
   "metadata": {},
   "outputs": [
    {
     "data": {
      "text/plain": [
       "'Ivysaur'"
      ]
     },
     "execution_count": 46,
     "metadata": {},
     "output_type": "execute_result"
    }
   ],
   "source": [
    "pokemon[1]"
   ]
  },
  {
   "cell_type": "code",
   "execution_count": 47,
   "metadata": {},
   "outputs": [
    {
     "data": {
      "text/plain": [
       "100    Electrode\n",
       "200        Unown\n",
       "300     Delcatty\n",
       "Name: Pokemon, dtype: object"
      ]
     },
     "execution_count": 47,
     "metadata": {},
     "output_type": "execute_result"
    }
   ],
   "source": [
    "pokemon[[100, 200, 300]]"
   ]
  },
  {
   "cell_type": "code",
   "execution_count": 49,
   "metadata": {},
   "outputs": [
    {
     "data": {
      "text/plain": [
       "50      Dugtrio\n",
       "51       Meowth\n",
       "52      Persian\n",
       "53      Psyduck\n",
       "54      Golduck\n",
       "55       Mankey\n",
       "56     Primeape\n",
       "57    Growlithe\n",
       "58     Arcanine\n",
       "59      Poliwag\n",
       "60    Poliwhirl\n",
       "Name: Pokemon, dtype: object"
      ]
     },
     "execution_count": 49,
     "metadata": {},
     "output_type": "execute_result"
    }
   ],
   "source": [
    "pokemon[50:61]"
   ]
  },
  {
   "cell_type": "code",
   "execution_count": 50,
   "metadata": {},
   "outputs": [
    {
     "data": {
      "text/plain": [
       "0     Bulbasaur\n",
       "1       Ivysaur\n",
       "2      Venusaur\n",
       "3    Charmander\n",
       "4    Charmeleon\n",
       "5     Charizard\n",
       "6      Squirtle\n",
       "7     Wartortle\n",
       "8     Blastoise\n",
       "9      Caterpie\n",
       "Name: Pokemon, dtype: object"
      ]
     },
     "execution_count": 50,
     "metadata": {},
     "output_type": "execute_result"
    }
   ],
   "source": [
    "pokemon[:10]"
   ]
  },
  {
   "cell_type": "code",
   "execution_count": 51,
   "metadata": {},
   "outputs": [
    {
     "data": {
      "text/plain": [
       "691     Clauncher\n",
       "692     Clawitzer\n",
       "693    Helioptile\n",
       "694     Heliolisk\n",
       "695        Tyrunt\n",
       "696     Tyrantrum\n",
       "697        Amaura\n",
       "698       Aurorus\n",
       "699       Sylveon\n",
       "700      Hawlucha\n",
       "701       Dedenne\n",
       "702       Carbink\n",
       "703         Goomy\n",
       "704       Sliggoo\n",
       "705        Goodra\n",
       "706        Klefki\n",
       "707      Phantump\n",
       "708     Trevenant\n",
       "709     Pumpkaboo\n",
       "710     Gourgeist\n",
       "711      Bergmite\n",
       "712       Avalugg\n",
       "713        Noibat\n",
       "714       Noivern\n",
       "715       Xerneas\n",
       "716       Yveltal\n",
       "717       Zygarde\n",
       "718       Diancie\n",
       "719         Hoopa\n",
       "720     Volcanion\n",
       "Name: Pokemon, dtype: object"
      ]
     },
     "execution_count": 51,
     "metadata": {},
     "output_type": "execute_result"
    }
   ],
   "source": [
    "pokemon[-30:]\n"
   ]
  },
  {
   "cell_type": "code",
   "execution_count": 52,
   "metadata": {},
   "outputs": [
    {
     "data": {
      "text/plain": [
       "691     Clauncher\n",
       "692     Clawitzer\n",
       "693    Helioptile\n",
       "694     Heliolisk\n",
       "695        Tyrunt\n",
       "696     Tyrantrum\n",
       "697        Amaura\n",
       "698       Aurorus\n",
       "699       Sylveon\n",
       "700      Hawlucha\n",
       "701       Dedenne\n",
       "702       Carbink\n",
       "703         Goomy\n",
       "704       Sliggoo\n",
       "705        Goodra\n",
       "706        Klefki\n",
       "707      Phantump\n",
       "708     Trevenant\n",
       "709     Pumpkaboo\n",
       "710     Gourgeist\n",
       "Name: Pokemon, dtype: object"
      ]
     },
     "execution_count": 52,
     "metadata": {},
     "output_type": "execute_result"
    }
   ],
   "source": [
    "pokemon[-30 : -10]"
   ]
  },
  {
   "cell_type": "markdown",
   "metadata": {},
   "source": [
    "## Extract Values by Index Label"
   ]
  },
  {
   "cell_type": "code",
   "execution_count": 53,
   "metadata": {},
   "outputs": [
    {
     "data": {
      "text/plain": [
       "Pokemon\n",
       "Bulbasaur    Grass\n",
       "Ivysaur      Grass\n",
       "Venusaur     Grass\n",
       "Name: Type, dtype: object"
      ]
     },
     "execution_count": 53,
     "metadata": {},
     "output_type": "execute_result"
    }
   ],
   "source": [
    "pokemon = pd.read_csv(\"pokemon.csv\", index_col = \"Pokemon\", squeeze = True)\n",
    "pokemon.head(3)"
   ]
  },
  {
   "cell_type": "code",
   "execution_count": 54,
   "metadata": {},
   "outputs": [
    {
     "data": {
      "text/plain": [
       "Pokemon\n",
       "Electrode    Electric\n",
       "Jolteon      Electric\n",
       "Name: Type, dtype: object"
      ]
     },
     "execution_count": 54,
     "metadata": {},
     "output_type": "execute_result"
    }
   ],
   "source": [
    "pokemon[[100, 134]]"
   ]
  },
  {
   "cell_type": "code",
   "execution_count": 55,
   "metadata": {},
   "outputs": [
    {
     "data": {
      "text/plain": [
       "'Grass'"
      ]
     },
     "execution_count": 55,
     "metadata": {},
     "output_type": "execute_result"
    }
   ],
   "source": [
    "pokemon[\"Bulbasaur\"]"
   ]
  },
  {
   "cell_type": "code",
   "execution_count": 56,
   "metadata": {},
   "outputs": [
    {
     "data": {
      "text/plain": [
       "'Normal'"
      ]
     },
     "execution_count": 56,
     "metadata": {},
     "output_type": "execute_result"
    }
   ],
   "source": [
    "pokemon[\"Ditto\"]"
   ]
  },
  {
   "cell_type": "code",
   "execution_count": 57,
   "metadata": {},
   "outputs": [
    {
     "data": {
      "text/plain": [
       "Pokemon\n",
       "Charizard        Fire\n",
       "Jolteon      Electric\n",
       "Name: Type, dtype: object"
      ]
     },
     "execution_count": 57,
     "metadata": {},
     "output_type": "execute_result"
    }
   ],
   "source": [
    "pokemon[[\"Charizard\", \"Jolteon\"]]"
   ]
  },
  {
   "cell_type": "code",
   "execution_count": 58,
   "metadata": {},
   "outputs": [
    {
     "data": {
      "text/plain": [
       "Pokemon\n",
       "Blastoise     Water\n",
       "Venusaur      Grass\n",
       "Meowth       Normal\n",
       "Name: Type, dtype: object"
      ]
     },
     "execution_count": 58,
     "metadata": {},
     "output_type": "execute_result"
    }
   ],
   "source": [
    "pokemon[[\"Blastoise\", \"Venusaur\", \"Meowth\"]]"
   ]
  },
  {
   "cell_type": "code",
   "execution_count": 59,
   "metadata": {},
   "outputs": [
    {
     "data": {
      "text/plain": [
       "Pokemon\n",
       "Bulbasaur        Grass\n",
       "Ivysaur          Grass\n",
       "Venusaur         Grass\n",
       "Charmander        Fire\n",
       "Charmeleon        Fire\n",
       "Charizard         Fire\n",
       "Squirtle         Water\n",
       "Wartortle        Water\n",
       "Blastoise        Water\n",
       "Caterpie           Bug\n",
       "Metapod            Bug\n",
       "Butterfree         Bug\n",
       "Weedle             Bug\n",
       "Kakuna             Bug\n",
       "Beedrill           Bug\n",
       "Pidgey          Normal\n",
       "Pidgeotto       Normal\n",
       "Pidgeot         Normal\n",
       "Rattata         Normal\n",
       "Raticate        Normal\n",
       "Spearow         Normal\n",
       "Fearow          Normal\n",
       "Ekans           Poison\n",
       "Arbok           Poison\n",
       "Pikachu       Electric\n",
       "Name: Type, dtype: object"
      ]
     },
     "execution_count": 59,
     "metadata": {},
     "output_type": "execute_result"
    }
   ],
   "source": [
    "pokemon[\"Bulbasaur\" : \"Pikachu\"]"
   ]
  },
  {
   "cell_type": "markdown",
   "metadata": {},
   "source": [
    "## The `.value_counts()` Method"
   ]
  },
  {
   "cell_type": "code",
   "execution_count": 60,
   "metadata": {},
   "outputs": [
    {
     "data": {
      "text/plain": [
       "Pokemon\n",
       "Bulbasaur    Grass\n",
       "Ivysaur      Grass\n",
       "Venusaur     Grass\n",
       "Name: Type, dtype: object"
      ]
     },
     "execution_count": 60,
     "metadata": {},
     "output_type": "execute_result"
    }
   ],
   "source": [
    "pokemon.head(3)"
   ]
  },
  {
   "cell_type": "code",
   "execution_count": 61,
   "metadata": {},
   "outputs": [
    {
     "data": {
      "text/plain": [
       "721"
      ]
     },
     "execution_count": 61,
     "metadata": {},
     "output_type": "execute_result"
    }
   ],
   "source": [
    "pokemon.value_counts().sum()"
   ]
  },
  {
   "cell_type": "code",
   "execution_count": 64,
   "metadata": {},
   "outputs": [
    {
     "data": {
      "text/plain": [
       "Flying        3\n",
       "Fairy        17\n",
       "Steel        22\n",
       "Ghost        23\n",
       "Ice          23\n",
       "Dragon       24\n",
       "Fighting     25\n",
       "Poison       28\n",
       "Dark         28\n",
       "Ground       30\n",
       "Electric     36\n",
       "Rock         41\n",
       "Psychic      47\n",
       "Fire         47\n",
       "Bug          63\n",
       "Grass        66\n",
       "Normal       93\n",
       "Water       105\n",
       "Name: Type, dtype: int64"
      ]
     },
     "execution_count": 64,
     "metadata": {},
     "output_type": "execute_result"
    }
   ],
   "source": [
    "pokemon.value_counts(ascending = True)"
   ]
  },
  {
   "cell_type": "code",
   "execution_count": null,
   "metadata": {},
   "outputs": [],
   "source": []
  }
 ],
 "metadata": {
  "kernelspec": {
   "display_name": "Python 3",
   "language": "python",
   "name": "python3"
  },
  "language_info": {
   "codemirror_mode": {
    "name": "ipython",
    "version": 3
   },
   "file_extension": ".py",
   "mimetype": "text/x-python",
   "name": "python",
   "nbconvert_exporter": "python",
   "pygments_lexer": "ipython3",
   "version": "3.7.2"
  }
 },
 "nbformat": 4,
 "nbformat_minor": 2
}
